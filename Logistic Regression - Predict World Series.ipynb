{
 "cells": [
  {
   "cell_type": "markdown",
   "metadata": {},
   "source": [
    "# Logistic Regression - Predict World Series"
   ]
  },
  {
   "cell_type": "markdown",
   "metadata": {},
   "source": [
    "## Overview\n",
    "* Create a Logistic Regression Model that is able to predict if a team won the World Series based off teams statistics from 1905-2018"
   ]
  },
  {
   "cell_type": "markdown",
   "metadata": {},
   "source": [
    "## Import Libraries"
   ]
  },
  {
   "cell_type": "code",
   "execution_count": 78,
   "metadata": {},
   "outputs": [],
   "source": [
    "# Data manipulation libraries\n",
    "import pandas as pd\n",
    "import numpy as np\n",
    "\n",
    "# Visualization libraries\n",
    "import matplotlib.pyplot as plt\n",
    "import seaborn as sns\n",
    "%matplotlib inline"
   ]
  },
  {
   "cell_type": "markdown",
   "metadata": {},
   "source": [
    "## Import Data"
   ]
  },
  {
   "cell_type": "code",
   "execution_count": 79,
   "metadata": {},
   "outputs": [],
   "source": [
    "# Team data from 1905-2018\n",
    "teams = pd.read_csv('Teams_1905_2018.csv')"
   ]
  },
  {
   "cell_type": "markdown",
   "metadata": {},
   "source": [
    "## Check Data"
   ]
  },
  {
   "cell_type": "code",
   "execution_count": 80,
   "metadata": {},
   "outputs": [
    {
     "data": {
      "text/html": [
       "<div>\n",
       "<style scoped>\n",
       "    .dataframe tbody tr th:only-of-type {\n",
       "        vertical-align: middle;\n",
       "    }\n",
       "\n",
       "    .dataframe tbody tr th {\n",
       "        vertical-align: top;\n",
       "    }\n",
       "\n",
       "    .dataframe thead th {\n",
       "        text-align: right;\n",
       "    }\n",
       "</style>\n",
       "<table border=\"1\" class=\"dataframe\">\n",
       "  <thead>\n",
       "    <tr style=\"text-align: right;\">\n",
       "      <th></th>\n",
       "      <th>yearID</th>\n",
       "      <th>lgID</th>\n",
       "      <th>teamID</th>\n",
       "      <th>franchID</th>\n",
       "      <th>divID</th>\n",
       "      <th>Rank</th>\n",
       "      <th>G</th>\n",
       "      <th>Ghome</th>\n",
       "      <th>W</th>\n",
       "      <th>L</th>\n",
       "      <th>...</th>\n",
       "      <th>DP</th>\n",
       "      <th>FP</th>\n",
       "      <th>name</th>\n",
       "      <th>park</th>\n",
       "      <th>attendance</th>\n",
       "      <th>BPF</th>\n",
       "      <th>PPF</th>\n",
       "      <th>teamIDBR</th>\n",
       "      <th>teamIDlahman45</th>\n",
       "      <th>teamIDretro</th>\n",
       "    </tr>\n",
       "  </thead>\n",
       "  <tbody>\n",
       "    <tr>\n",
       "      <th>0</th>\n",
       "      <td>1905</td>\n",
       "      <td>AL</td>\n",
       "      <td>BOS</td>\n",
       "      <td>BOS</td>\n",
       "      <td>NaN</td>\n",
       "      <td>4</td>\n",
       "      <td>153</td>\n",
       "      <td>77</td>\n",
       "      <td>78</td>\n",
       "      <td>74</td>\n",
       "      <td>...</td>\n",
       "      <td>75</td>\n",
       "      <td>0.953</td>\n",
       "      <td>Boston Americans</td>\n",
       "      <td>Huntington Avenue Grounds</td>\n",
       "      <td>468828</td>\n",
       "      <td>101</td>\n",
       "      <td>102</td>\n",
       "      <td>BOS</td>\n",
       "      <td>BOS</td>\n",
       "      <td>BOS</td>\n",
       "    </tr>\n",
       "    <tr>\n",
       "      <th>1</th>\n",
       "      <td>1905</td>\n",
       "      <td>NL</td>\n",
       "      <td>BRO</td>\n",
       "      <td>LAD</td>\n",
       "      <td>NaN</td>\n",
       "      <td>8</td>\n",
       "      <td>155</td>\n",
       "      <td>77</td>\n",
       "      <td>48</td>\n",
       "      <td>104</td>\n",
       "      <td>...</td>\n",
       "      <td>101</td>\n",
       "      <td>0.937</td>\n",
       "      <td>Brooklyn Superbas</td>\n",
       "      <td>Washington Park III</td>\n",
       "      <td>227924</td>\n",
       "      <td>93</td>\n",
       "      <td>96</td>\n",
       "      <td>BRO</td>\n",
       "      <td>BRO</td>\n",
       "      <td>BRO</td>\n",
       "    </tr>\n",
       "    <tr>\n",
       "      <th>2</th>\n",
       "      <td>1905</td>\n",
       "      <td>NL</td>\n",
       "      <td>BSN</td>\n",
       "      <td>ATL</td>\n",
       "      <td>NaN</td>\n",
       "      <td>7</td>\n",
       "      <td>156</td>\n",
       "      <td>76</td>\n",
       "      <td>51</td>\n",
       "      <td>103</td>\n",
       "      <td>...</td>\n",
       "      <td>89</td>\n",
       "      <td>0.951</td>\n",
       "      <td>Boston Beaneaters</td>\n",
       "      <td>South End Grounds III</td>\n",
       "      <td>150003</td>\n",
       "      <td>98</td>\n",
       "      <td>103</td>\n",
       "      <td>BSN</td>\n",
       "      <td>BSN</td>\n",
       "      <td>BSN</td>\n",
       "    </tr>\n",
       "    <tr>\n",
       "      <th>3</th>\n",
       "      <td>1905</td>\n",
       "      <td>AL</td>\n",
       "      <td>CHA</td>\n",
       "      <td>CHW</td>\n",
       "      <td>NaN</td>\n",
       "      <td>2</td>\n",
       "      <td>158</td>\n",
       "      <td>82</td>\n",
       "      <td>92</td>\n",
       "      <td>60</td>\n",
       "      <td>...</td>\n",
       "      <td>95</td>\n",
       "      <td>0.967</td>\n",
       "      <td>Chicago White Sox</td>\n",
       "      <td>South Side Park II</td>\n",
       "      <td>687419</td>\n",
       "      <td>96</td>\n",
       "      <td>93</td>\n",
       "      <td>CHW</td>\n",
       "      <td>CHA</td>\n",
       "      <td>CHA</td>\n",
       "    </tr>\n",
       "    <tr>\n",
       "      <th>4</th>\n",
       "      <td>1905</td>\n",
       "      <td>NL</td>\n",
       "      <td>CHN</td>\n",
       "      <td>CHC</td>\n",
       "      <td>NaN</td>\n",
       "      <td>3</td>\n",
       "      <td>155</td>\n",
       "      <td>81</td>\n",
       "      <td>92</td>\n",
       "      <td>61</td>\n",
       "      <td>...</td>\n",
       "      <td>99</td>\n",
       "      <td>0.962</td>\n",
       "      <td>Chicago Cubs</td>\n",
       "      <td>West Side Park II</td>\n",
       "      <td>509900</td>\n",
       "      <td>104</td>\n",
       "      <td>99</td>\n",
       "      <td>CHC</td>\n",
       "      <td>CHN</td>\n",
       "      <td>CHN</td>\n",
       "    </tr>\n",
       "  </tbody>\n",
       "</table>\n",
       "<p>5 rows × 48 columns</p>\n",
       "</div>"
      ],
      "text/plain": [
       "   yearID lgID teamID franchID divID  Rank    G  Ghome   W    L  ...   DP  \\\n",
       "0    1905   AL    BOS      BOS   NaN     4  153     77  78   74  ...   75   \n",
       "1    1905   NL    BRO      LAD   NaN     8  155     77  48  104  ...  101   \n",
       "2    1905   NL    BSN      ATL   NaN     7  156     76  51  103  ...   89   \n",
       "3    1905   AL    CHA      CHW   NaN     2  158     82  92   60  ...   95   \n",
       "4    1905   NL    CHN      CHC   NaN     3  155     81  92   61  ...   99   \n",
       "\n",
       "      FP               name                       park  attendance  BPF  PPF  \\\n",
       "0  0.953   Boston Americans  Huntington Avenue Grounds      468828  101  102   \n",
       "1  0.937  Brooklyn Superbas        Washington Park III      227924   93   96   \n",
       "2  0.951  Boston Beaneaters      South End Grounds III      150003   98  103   \n",
       "3  0.967  Chicago White Sox         South Side Park II      687419   96   93   \n",
       "4  0.962       Chicago Cubs          West Side Park II      509900  104   99   \n",
       "\n",
       "   teamIDBR  teamIDlahman45  teamIDretro  \n",
       "0       BOS             BOS          BOS  \n",
       "1       BRO             BRO          BRO  \n",
       "2       BSN             BSN          BSN  \n",
       "3       CHW             CHA          CHA  \n",
       "4       CHC             CHN          CHN  \n",
       "\n",
       "[5 rows x 48 columns]"
      ]
     },
     "execution_count": 80,
     "metadata": {},
     "output_type": "execute_result"
    }
   ],
   "source": [
    "# View the first 5 rows of data\n",
    "teams.head()"
   ]
  },
  {
   "cell_type": "code",
   "execution_count": 81,
   "metadata": {},
   "outputs": [
    {
     "name": "stdout",
     "output_type": "stream",
     "text": [
      "<class 'pandas.core.frame.DataFrame'>\n",
      "RangeIndex: 2388 entries, 0 to 2387\n",
      "Data columns (total 48 columns):\n",
      "yearID            2388 non-null int64\n",
      "lgID              2388 non-null object\n",
      "teamID            2388 non-null object\n",
      "franchID          2388 non-null object\n",
      "divID             1350 non-null object\n",
      "Rank              2388 non-null int64\n",
      "G                 2388 non-null int64\n",
      "Ghome             2388 non-null int64\n",
      "W                 2388 non-null int64\n",
      "L                 2388 non-null int64\n",
      "DivWin            1350 non-null object\n",
      "WCWin             714 non-null object\n",
      "LgWin             2388 non-null object\n",
      "WSWin             2388 non-null object\n",
      "R                 2388 non-null int64\n",
      "AB                2388 non-null int64\n",
      "H                 2388 non-null int64\n",
      "2B                2388 non-null int64\n",
      "3B                2388 non-null int64\n",
      "HR                2388 non-null int64\n",
      "BB                2388 non-null int64\n",
      "SO                2372 non-null float64\n",
      "SB                2388 non-null int64\n",
      "CS                1980 non-null float64\n",
      "HBP               1422 non-null float64\n",
      "SF                1326 non-null float64\n",
      "RA                2388 non-null int64\n",
      "ER                2388 non-null int64\n",
      "ERA               2388 non-null float64\n",
      "CG                2388 non-null int64\n",
      "SHO               2388 non-null int64\n",
      "SV                2388 non-null int64\n",
      "IPouts            2388 non-null int64\n",
      "HA                2388 non-null int64\n",
      "HRA               2388 non-null int64\n",
      "BBA               2388 non-null int64\n",
      "SOA               2388 non-null int64\n",
      "E                 2388 non-null int64\n",
      "DP                2388 non-null int64\n",
      "FP                2388 non-null float64\n",
      "name              2388 non-null object\n",
      "park              2388 non-null object\n",
      "attendance        2388 non-null int64\n",
      "BPF               2388 non-null int64\n",
      "PPF               2388 non-null int64\n",
      "teamIDBR          2388 non-null object\n",
      "teamIDlahman45    2388 non-null object\n",
      "teamIDretro       2388 non-null object\n",
      "dtypes: float64(6), int64(29), object(13)\n",
      "memory usage: 895.6+ KB\n"
     ]
    }
   ],
   "source": [
    "# View rows and columns info\n",
    "teams.info()"
   ]
  },
  {
   "cell_type": "code",
   "execution_count": 82,
   "metadata": {},
   "outputs": [
    {
     "data": {
      "text/html": [
       "<div>\n",
       "<style scoped>\n",
       "    .dataframe tbody tr th:only-of-type {\n",
       "        vertical-align: middle;\n",
       "    }\n",
       "\n",
       "    .dataframe tbody tr th {\n",
       "        vertical-align: top;\n",
       "    }\n",
       "\n",
       "    .dataframe thead th {\n",
       "        text-align: right;\n",
       "    }\n",
       "</style>\n",
       "<table border=\"1\" class=\"dataframe\">\n",
       "  <thead>\n",
       "    <tr style=\"text-align: right;\">\n",
       "      <th></th>\n",
       "      <th>yearID</th>\n",
       "      <th>Rank</th>\n",
       "      <th>G</th>\n",
       "      <th>Ghome</th>\n",
       "      <th>W</th>\n",
       "      <th>L</th>\n",
       "      <th>R</th>\n",
       "      <th>AB</th>\n",
       "      <th>H</th>\n",
       "      <th>2B</th>\n",
       "      <th>...</th>\n",
       "      <th>HA</th>\n",
       "      <th>HRA</th>\n",
       "      <th>BBA</th>\n",
       "      <th>SOA</th>\n",
       "      <th>E</th>\n",
       "      <th>DP</th>\n",
       "      <th>FP</th>\n",
       "      <th>attendance</th>\n",
       "      <th>BPF</th>\n",
       "      <th>PPF</th>\n",
       "    </tr>\n",
       "  </thead>\n",
       "  <tbody>\n",
       "    <tr>\n",
       "      <th>count</th>\n",
       "      <td>2388.000000</td>\n",
       "      <td>2388.000000</td>\n",
       "      <td>2388.000000</td>\n",
       "      <td>2388.000000</td>\n",
       "      <td>2388.000000</td>\n",
       "      <td>2388.000000</td>\n",
       "      <td>2388.000000</td>\n",
       "      <td>2388.000000</td>\n",
       "      <td>2388.000000</td>\n",
       "      <td>2388.000000</td>\n",
       "      <td>...</td>\n",
       "      <td>2388.000000</td>\n",
       "      <td>2388.000000</td>\n",
       "      <td>2388.000000</td>\n",
       "      <td>2388.000000</td>\n",
       "      <td>2388.000000</td>\n",
       "      <td>2388.000000</td>\n",
       "      <td>2388.000000</td>\n",
       "      <td>2.388000e+03</td>\n",
       "      <td>2388.000000</td>\n",
       "      <td>2388.000000</td>\n",
       "    </tr>\n",
       "    <tr>\n",
       "      <th>mean</th>\n",
       "      <td>1969.880235</td>\n",
       "      <td>3.878978</td>\n",
       "      <td>157.995812</td>\n",
       "      <td>78.992462</td>\n",
       "      <td>78.719430</td>\n",
       "      <td>78.719430</td>\n",
       "      <td>695.942630</td>\n",
       "      <td>5382.857203</td>\n",
       "      <td>1405.743300</td>\n",
       "      <td>244.648241</td>\n",
       "      <td>...</td>\n",
       "      <td>1405.525963</td>\n",
       "      <td>119.805276</td>\n",
       "      <td>511.609715</td>\n",
       "      <td>828.662060</td>\n",
       "      <td>145.814489</td>\n",
       "      <td>144.796064</td>\n",
       "      <td>0.976284</td>\n",
       "      <td>1.471898e+06</td>\n",
       "      <td>100.197236</td>\n",
       "      <td>100.194305</td>\n",
       "    </tr>\n",
       "    <tr>\n",
       "      <th>std</th>\n",
       "      <td>32.699850</td>\n",
       "      <td>2.122951</td>\n",
       "      <td>7.353540</td>\n",
       "      <td>3.859485</td>\n",
       "      <td>13.297568</td>\n",
       "      <td>13.228678</td>\n",
       "      <td>106.452818</td>\n",
       "      <td>278.763683</td>\n",
       "      <td>119.737108</td>\n",
       "      <td>46.505251</td>\n",
       "      <td>...</td>\n",
       "      <td>123.157491</td>\n",
       "      <td>52.199869</td>\n",
       "      <td>83.186901</td>\n",
       "      <td>270.610867</td>\n",
       "      <td>50.833443</td>\n",
       "      <td>23.835086</td>\n",
       "      <td>0.007807</td>\n",
       "      <td>9.376833e+05</td>\n",
       "      <td>4.575398</td>\n",
       "      <td>4.636960</td>\n",
       "    </tr>\n",
       "    <tr>\n",
       "      <th>min</th>\n",
       "      <td>1905.000000</td>\n",
       "      <td>1.000000</td>\n",
       "      <td>103.000000</td>\n",
       "      <td>47.000000</td>\n",
       "      <td>36.000000</td>\n",
       "      <td>36.000000</td>\n",
       "      <td>329.000000</td>\n",
       "      <td>3493.000000</td>\n",
       "      <td>797.000000</td>\n",
       "      <td>107.000000</td>\n",
       "      <td>...</td>\n",
       "      <td>827.000000</td>\n",
       "      <td>5.000000</td>\n",
       "      <td>228.000000</td>\n",
       "      <td>277.000000</td>\n",
       "      <td>54.000000</td>\n",
       "      <td>64.000000</td>\n",
       "      <td>0.937000</td>\n",
       "      <td>8.092200e+04</td>\n",
       "      <td>88.000000</td>\n",
       "      <td>88.000000</td>\n",
       "    </tr>\n",
       "    <tr>\n",
       "      <th>25%</th>\n",
       "      <td>1943.000000</td>\n",
       "      <td>2.000000</td>\n",
       "      <td>155.000000</td>\n",
       "      <td>77.000000</td>\n",
       "      <td>70.000000</td>\n",
       "      <td>70.000000</td>\n",
       "      <td>631.750000</td>\n",
       "      <td>5291.000000</td>\n",
       "      <td>1342.000000</td>\n",
       "      <td>213.000000</td>\n",
       "      <td>...</td>\n",
       "      <td>1337.000000</td>\n",
       "      <td>84.000000</td>\n",
       "      <td>461.000000</td>\n",
       "      <td>592.750000</td>\n",
       "      <td>110.000000</td>\n",
       "      <td>131.000000</td>\n",
       "      <td>0.973000</td>\n",
       "      <td>6.647838e+05</td>\n",
       "      <td>97.000000</td>\n",
       "      <td>97.000000</td>\n",
       "    </tr>\n",
       "    <tr>\n",
       "      <th>50%</th>\n",
       "      <td>1975.000000</td>\n",
       "      <td>4.000000</td>\n",
       "      <td>162.000000</td>\n",
       "      <td>81.000000</td>\n",
       "      <td>79.000000</td>\n",
       "      <td>78.000000</td>\n",
       "      <td>696.000000</td>\n",
       "      <td>5456.500000</td>\n",
       "      <td>1409.000000</td>\n",
       "      <td>246.000000</td>\n",
       "      <td>...</td>\n",
       "      <td>1412.000000</td>\n",
       "      <td>126.000000</td>\n",
       "      <td>511.000000</td>\n",
       "      <td>845.500000</td>\n",
       "      <td>135.000000</td>\n",
       "      <td>146.000000</td>\n",
       "      <td>0.978000</td>\n",
       "      <td>1.292952e+06</td>\n",
       "      <td>100.000000</td>\n",
       "      <td>100.000000</td>\n",
       "    </tr>\n",
       "    <tr>\n",
       "      <th>75%</th>\n",
       "      <td>1999.000000</td>\n",
       "      <td>5.000000</td>\n",
       "      <td>162.000000</td>\n",
       "      <td>81.000000</td>\n",
       "      <td>89.000000</td>\n",
       "      <td>88.000000</td>\n",
       "      <td>761.000000</td>\n",
       "      <td>5538.000000</td>\n",
       "      <td>1481.000000</td>\n",
       "      <td>279.000000</td>\n",
       "      <td>...</td>\n",
       "      <td>1482.000000</td>\n",
       "      <td>159.000000</td>\n",
       "      <td>566.000000</td>\n",
       "      <td>1028.000000</td>\n",
       "      <td>168.000000</td>\n",
       "      <td>161.000000</td>\n",
       "      <td>0.982000</td>\n",
       "      <td>2.137364e+06</td>\n",
       "      <td>103.000000</td>\n",
       "      <td>103.000000</td>\n",
       "    </tr>\n",
       "    <tr>\n",
       "      <th>max</th>\n",
       "      <td>2018.000000</td>\n",
       "      <td>10.000000</td>\n",
       "      <td>165.000000</td>\n",
       "      <td>84.000000</td>\n",
       "      <td>116.000000</td>\n",
       "      <td>120.000000</td>\n",
       "      <td>1067.000000</td>\n",
       "      <td>5781.000000</td>\n",
       "      <td>1783.000000</td>\n",
       "      <td>376.000000</td>\n",
       "      <td>...</td>\n",
       "      <td>1993.000000</td>\n",
       "      <td>258.000000</td>\n",
       "      <td>827.000000</td>\n",
       "      <td>1687.000000</td>\n",
       "      <td>408.000000</td>\n",
       "      <td>217.000000</td>\n",
       "      <td>0.991000</td>\n",
       "      <td>4.483350e+06</td>\n",
       "      <td>129.000000</td>\n",
       "      <td>129.000000</td>\n",
       "    </tr>\n",
       "  </tbody>\n",
       "</table>\n",
       "<p>8 rows × 35 columns</p>\n",
       "</div>"
      ],
      "text/plain": [
       "            yearID         Rank            G        Ghome            W  \\\n",
       "count  2388.000000  2388.000000  2388.000000  2388.000000  2388.000000   \n",
       "mean   1969.880235     3.878978   157.995812    78.992462    78.719430   \n",
       "std      32.699850     2.122951     7.353540     3.859485    13.297568   \n",
       "min    1905.000000     1.000000   103.000000    47.000000    36.000000   \n",
       "25%    1943.000000     2.000000   155.000000    77.000000    70.000000   \n",
       "50%    1975.000000     4.000000   162.000000    81.000000    79.000000   \n",
       "75%    1999.000000     5.000000   162.000000    81.000000    89.000000   \n",
       "max    2018.000000    10.000000   165.000000    84.000000   116.000000   \n",
       "\n",
       "                 L            R           AB            H           2B  ...  \\\n",
       "count  2388.000000  2388.000000  2388.000000  2388.000000  2388.000000  ...   \n",
       "mean     78.719430   695.942630  5382.857203  1405.743300   244.648241  ...   \n",
       "std      13.228678   106.452818   278.763683   119.737108    46.505251  ...   \n",
       "min      36.000000   329.000000  3493.000000   797.000000   107.000000  ...   \n",
       "25%      70.000000   631.750000  5291.000000  1342.000000   213.000000  ...   \n",
       "50%      78.000000   696.000000  5456.500000  1409.000000   246.000000  ...   \n",
       "75%      88.000000   761.000000  5538.000000  1481.000000   279.000000  ...   \n",
       "max     120.000000  1067.000000  5781.000000  1783.000000   376.000000  ...   \n",
       "\n",
       "                HA          HRA          BBA          SOA            E  \\\n",
       "count  2388.000000  2388.000000  2388.000000  2388.000000  2388.000000   \n",
       "mean   1405.525963   119.805276   511.609715   828.662060   145.814489   \n",
       "std     123.157491    52.199869    83.186901   270.610867    50.833443   \n",
       "min     827.000000     5.000000   228.000000   277.000000    54.000000   \n",
       "25%    1337.000000    84.000000   461.000000   592.750000   110.000000   \n",
       "50%    1412.000000   126.000000   511.000000   845.500000   135.000000   \n",
       "75%    1482.000000   159.000000   566.000000  1028.000000   168.000000   \n",
       "max    1993.000000   258.000000   827.000000  1687.000000   408.000000   \n",
       "\n",
       "                DP           FP    attendance          BPF          PPF  \n",
       "count  2388.000000  2388.000000  2.388000e+03  2388.000000  2388.000000  \n",
       "mean    144.796064     0.976284  1.471898e+06   100.197236   100.194305  \n",
       "std      23.835086     0.007807  9.376833e+05     4.575398     4.636960  \n",
       "min      64.000000     0.937000  8.092200e+04    88.000000    88.000000  \n",
       "25%     131.000000     0.973000  6.647838e+05    97.000000    97.000000  \n",
       "50%     146.000000     0.978000  1.292952e+06   100.000000   100.000000  \n",
       "75%     161.000000     0.982000  2.137364e+06   103.000000   103.000000  \n",
       "max     217.000000     0.991000  4.483350e+06   129.000000   129.000000  \n",
       "\n",
       "[8 rows x 35 columns]"
      ]
     },
     "execution_count": 82,
     "metadata": {},
     "output_type": "execute_result"
    }
   ],
   "source": [
    "# Some statistical information\n",
    "teams.describe()"
   ]
  },
  {
   "cell_type": "code",
   "execution_count": 83,
   "metadata": {},
   "outputs": [
    {
     "data": {
      "text/plain": [
       "Index(['yearID', 'lgID', 'teamID', 'franchID', 'divID', 'Rank', 'G', 'Ghome',\n",
       "       'W', 'L', 'DivWin', 'WCWin', 'LgWin', 'WSWin', 'R', 'AB', 'H', '2B',\n",
       "       '3B', 'HR', 'BB', 'SO', 'SB', 'CS', 'HBP', 'SF', 'RA', 'ER', 'ERA',\n",
       "       'CG', 'SHO', 'SV', 'IPouts', 'HA', 'HRA', 'BBA', 'SOA', 'E', 'DP', 'FP',\n",
       "       'name', 'park', 'attendance', 'BPF', 'PPF', 'teamIDBR',\n",
       "       'teamIDlahman45', 'teamIDretro'],\n",
       "      dtype='object')"
      ]
     },
     "execution_count": 83,
     "metadata": {},
     "output_type": "execute_result"
    }
   ],
   "source": [
    "# Column names\n",
    "teams.columns"
   ]
  },
  {
   "cell_type": "markdown",
   "metadata": {},
   "source": [
    "## Exploratory Data Analysis"
   ]
  },
  {
   "cell_type": "markdown",
   "metadata": {},
   "source": [
    "### Missing Data"
   ]
  },
  {
   "cell_type": "code",
   "execution_count": 84,
   "metadata": {},
   "outputs": [
    {
     "data": {
      "text/plain": [
       "<matplotlib.axes._subplots.AxesSubplot at 0x23e78ae8488>"
      ]
     },
     "execution_count": 84,
     "metadata": {},
     "output_type": "execute_result"
    },
    {
     "data": {
      "image/png": "[encoded data removed]",
      "text/plain": [
       "<Figure size 1440x720 with 1 Axes>"
      ]
     },
     "metadata": {
      "needs_background": "light"
     },
     "output_type": "display_data"
    }
   ],
   "source": [
    "# Seaborn heatmap to see missing data\n",
    "fig, ax = plt.subplots(figsize = (20,10)) \n",
    "sns.heatmap(teams.isnull(), yticklabels = False, cbar = False, cmap = 'coolwarm', ax = ax)"
   ]
  },
  {
   "cell_type": "markdown",
   "metadata": {},
   "source": [
    "### Count Plots"
   ]
  },
  {
   "cell_type": "code",
   "execution_count": 85,
   "metadata": {},
   "outputs": [
    {
     "data": {
      "text/plain": [
       "<matplotlib.axes._subplots.AxesSubplot at 0x23e7a9831c8>"
      ]
     },
     "execution_count": 85,
     "metadata": {},
     "output_type": "execute_result"
    },
    {
     "data": {
      "image/png": "[encoded data removed]",
      "text/plain": [
       "<Figure size 1440x720 with 1 Axes>"
      ]
     },
     "metadata": {
      "needs_background": "light"
     },
     "output_type": "display_data"
    }
   ],
   "source": [
    "# Count of teams to win and not win World Series from 1905-2018 \n",
    "fig, ax = plt.subplots(figsize = (20,10)) \n",
    "sns.set_style('whitegrid')\n",
    "sns.countplot(data = teams, x = 'WSWin', palette = 'coolwarm', ax = ax)"
   ]
  },
  {
   "cell_type": "code",
   "execution_count": 86,
   "metadata": {},
   "outputs": [
    {
     "data": {
      "text/plain": [
       "<matplotlib.axes._subplots.AxesSubplot at 0x23e7ad48508>"
      ]
     },
     "execution_count": 86,
     "metadata": {},
     "output_type": "execute_result"
    },
    {
     "data": {
      "image/png": "[encoded data removed]",
      "text/plain": [
       "<Figure size 1440x720 with 1 Axes>"
      ]
     },
     "metadata": {},
     "output_type": "display_data"
    }
   ],
   "source": [
    "# Count of teams in each league to win and not win World Series from 1905-2018 \n",
    "fig, ax = plt.subplots(figsize = (20,10)) \n",
    "sns.set_style('whitegrid')\n",
    "sns.countplot(data = teams, x = 'WSWin', hue = 'lgID', palette = 'coolwarm', ax = ax)"
   ]
  },
  {
   "cell_type": "markdown",
   "metadata": {},
   "source": [
    "### Histogram Plots"
   ]
  },
  {
   "cell_type": "code",
   "execution_count": 87,
   "metadata": {},
   "outputs": [
    {
     "data": {
      "text/plain": [
       "<matplotlib.axes._subplots.AxesSubplot at 0x23e7b3aff08>"
      ]
     },
     "execution_count": 87,
     "metadata": {},
     "output_type": "execute_result"
    },
    {
     "data": {
      "image/png": "[encoded data removed]",
      "text/plain": [
       "<Figure size 1440x720 with 1 Axes>"
      ]
     },
     "metadata": {},
     "output_type": "display_data"
    }
   ],
   "source": [
    "# Histogram plot of number of games teams have played from 1905-2018\n",
    "fig, ax = plt.subplots(figsize = (20,10)) \n",
    "sns.distplot(teams['G'].dropna(), bins = 20, ax = ax)"
   ]
  },
  {
   "cell_type": "code",
   "execution_count": 88,
   "metadata": {},
   "outputs": [
    {
     "data": {
      "text/plain": [
       "<matplotlib.axes._subplots.AxesSubplot at 0x23e7b751d48>"
      ]
     },
     "execution_count": 88,
     "metadata": {},
     "output_type": "execute_result"
    },
    {
     "data": {
      "image/png": "[encoded data removed]",
      "text/plain": [
       "<Figure size 1440x720 with 1 Axes>"
      ]
     },
     "metadata": {},
     "output_type": "display_data"
    }
   ],
   "source": [
    "# Histogram plot of number of games teams have won from 1905-2018\n",
    "fig, ax = plt.subplots(figsize = (20,10)) \n",
    "sns.distplot(teams['W'].dropna(), bins = 20, ax = ax)"
   ]
  },
  {
   "cell_type": "code",
   "execution_count": 89,
   "metadata": {},
   "outputs": [
    {
     "data": {
      "text/plain": [
       "<matplotlib.axes._subplots.AxesSubplot at 0x23e7bd5c6c8>"
      ]
     },
     "execution_count": 89,
     "metadata": {},
     "output_type": "execute_result"
    },
    {
     "data": {
      "image/png": "[encoded data removed]",
      "text/plain": [
       "<Figure size 1440x720 with 1 Axes>"
      ]
     },
     "metadata": {},
     "output_type": "display_data"
    }
   ],
   "source": [
    "# Histogram plot of number of games teams have lossed from 1905-2018\n",
    "fig, ax = plt.subplots(figsize = (20,10)) \n",
    "sns.distplot(teams['L'].dropna(), bins = 20, ax = ax)"
   ]
  },
  {
   "cell_type": "markdown",
   "metadata": {},
   "source": [
    "## Data Cleaning"
   ]
  },
  {
   "cell_type": "markdown",
   "metadata": {},
   "source": [
    "### Columns with Missing Data\n",
    "* divID (Team's Division) --> drop\n",
    "    * Team's Division did not start to populate in the data until 1969. Through a quick google search, I discovered divisions were not created until 1969 which, was the year the league expanded. Therefore, I've decided to drop this column as there is no way to accurately fill in the missing data since divisions did not exist before 1969.\n",
    "* DivWin (Division Winner) --> drop\n",
    "    * There is no data prior to 1969 for Division Winner due to divisions not being created until 1969. Therefore, like divID, I decided to drop this column from the data set.\n",
    "* WCWin (Wild Card Winner) --> drop\n",
    "    * The Wild Card was not created until 1994 therefore, this column will be dropped from the data set. \n",
    "* SO (Strike Out by Batters) --> mean of surrounding SO\n",
    "    * There are only 16 instances where strikeouts were not recorded and that happened in 1911-1912. Therefore, I will average the strikeouts of 1910-1913 to fill in the missing data.\n",
    "* CS (Caught Stealing) --> mean of all CS\n",
    "    * The missing caught stealing data will be filled in with the average caught stealing of all rows\n",
    "* HBP (Batter Hit by Pitch) --> mean of all HBP\n",
    "    * The missing hit by pitch data will be filled in with the average hit by pitch of all rows\n",
    "* SF (Sacrifice Flies) --> mean of SF\n",
    "    * The sacrifice flis data will be filled in with the average sacrifice flies of all rows"
   ]
  },
  {
   "cell_type": "markdown",
   "metadata": {},
   "source": [
    "### Drop Columns\n",
    "* divID\n",
    "* DivWin\n",
    "* WCWin"
   ]
  },
  {
   "cell_type": "code",
   "execution_count": 90,
   "metadata": {},
   "outputs": [
    {
     "data": {
      "text/plain": [
       "Index(['yearID', 'lgID', 'teamID', 'franchID', 'Rank', 'G', 'Ghome', 'W', 'L',\n",
       "       'LgWin', 'WSWin', 'R', 'AB', 'H', '2B', '3B', 'HR', 'BB', 'SO', 'SB',\n",
       "       'CS', 'HBP', 'SF', 'RA', 'ER', 'ERA', 'CG', 'SHO', 'SV', 'IPouts', 'HA',\n",
       "       'HRA', 'BBA', 'SOA', 'E', 'DP', 'FP', 'name', 'park', 'attendance',\n",
       "       'BPF', 'PPF', 'teamIDBR', 'teamIDlahman45', 'teamIDretro'],\n",
       "      dtype='object')"
      ]
     },
     "execution_count": 90,
     "metadata": {},
     "output_type": "execute_result"
    }
   ],
   "source": [
    "# Drop columns with too much missing data\n",
    "teams.drop(['divID', 'DivWin', 'WCWin'], axis = 1, inplace = True)\n",
    "\n",
    "# Check columns\n",
    "teams.columns"
   ]
  },
  {
   "cell_type": "markdown",
   "metadata": {},
   "source": [
    "### Mean of Columns\n",
    "* SO --> mean from 1910-1913\n",
    "* CS --> mean of entire column\n",
    "* HBP --> mean of entire column\n",
    "* SF --> mean of entire column"
   ]
  },
  {
   "cell_type": "code",
   "execution_count": 91,
   "metadata": {},
   "outputs": [],
   "source": [
    "# Mean of SO from 1910-1913\n",
    "teams['SO'][83:144].fillna((teams['SO'][83:144].mean()), inplace = True)\n",
    "\n",
    "# Mean of CS for entire column\n",
    "teams['CS'].fillna((teams['CS'].mean()), inplace = True)\n",
    "\n",
    "# Mean of HBP for entire column\n",
    "teams['HBP'].fillna((teams['HBP'].mean()), inplace = True)\n",
    "\n",
    "# Mean of SF for entire column\n",
    "teams['SF'].fillna((teams['SF'].mean()), inplace = True)"
   ]
  },
  {
   "cell_type": "markdown",
   "metadata": {},
   "source": [
    "### Check for Missing Data"
   ]
  },
  {
   "cell_type": "code",
   "execution_count": 92,
   "metadata": {},
   "outputs": [
    {
     "data": {
      "text/plain": [
       "<matplotlib.axes._subplots.AxesSubplot at 0x23e7c09a408>"
      ]
     },
     "execution_count": 92,
     "metadata": {},
     "output_type": "execute_result"
    },
    {
     "data": {
      "image/png": "[encoded data removed]",
      "text/plain": [
       "<Figure size 1440x720 with 1 Axes>"
      ]
     },
     "metadata": {},
     "output_type": "display_data"
    }
   ],
   "source": [
    "# Seaborn heatmap to see missing data\n",
    "fig, ax = plt.subplots(figsize = (20,10)) \n",
    "sns.heatmap(teams.isnull(), yticklabels = False, cbar = False, cmap = 'coolwarm', ax = ax)"
   ]
  },
  {
   "cell_type": "markdown",
   "metadata": {},
   "source": [
    "### Categorical Features\n",
    "* Check to see which columns are categorical features\n",
    "* Convert categorical features that will be included in the logistic regression model\n",
    "* Drop categorical features that will not be included in the logistic regression model"
   ]
  },
  {
   "cell_type": "code",
   "execution_count": 93,
   "metadata": {},
   "outputs": [
    {
     "name": "stdout",
     "output_type": "stream",
     "text": [
      "<class 'pandas.core.frame.DataFrame'>\n",
      "RangeIndex: 2388 entries, 0 to 2387\n",
      "Data columns (total 45 columns):\n",
      "yearID            2388 non-null int64\n",
      "lgID              2388 non-null object\n",
      "teamID            2388 non-null object\n",
      "franchID          2388 non-null object\n",
      "Rank              2388 non-null int64\n",
      "G                 2388 non-null int64\n",
      "Ghome             2388 non-null int64\n",
      "W                 2388 non-null int64\n",
      "L                 2388 non-null int64\n",
      "LgWin             2388 non-null object\n",
      "WSWin             2388 non-null object\n",
      "R                 2388 non-null int64\n",
      "AB                2388 non-null int64\n",
      "H                 2388 non-null int64\n",
      "2B                2388 non-null int64\n",
      "3B                2388 non-null int64\n",
      "HR                2388 non-null int64\n",
      "BB                2388 non-null int64\n",
      "SO                2388 non-null float64\n",
      "SB                2388 non-null int64\n",
      "CS                2388 non-null float64\n",
      "HBP               2388 non-null float64\n",
      "SF                2388 non-null float64\n",
      "RA                2388 non-null int64\n",
      "ER                2388 non-null int64\n",
      "ERA               2388 non-null float64\n",
      "CG                2388 non-null int64\n",
      "SHO               2388 non-null int64\n",
      "SV                2388 non-null int64\n",
      "IPouts            2388 non-null int64\n",
      "HA                2388 non-null int64\n",
      "HRA               2388 non-null int64\n",
      "BBA               2388 non-null int64\n",
      "SOA               2388 non-null int64\n",
      "E                 2388 non-null int64\n",
      "DP                2388 non-null int64\n",
      "FP                2388 non-null float64\n",
      "name              2388 non-null object\n",
      "park              2388 non-null object\n",
      "attendance        2388 non-null int64\n",
      "BPF               2388 non-null int64\n",
      "PPF               2388 non-null int64\n",
      "teamIDBR          2388 non-null object\n",
      "teamIDlahman45    2388 non-null object\n",
      "teamIDretro       2388 non-null object\n",
      "dtypes: float64(6), int64(29), object(10)\n",
      "memory usage: 839.7+ KB\n"
     ]
    }
   ],
   "source": [
    "# Check column type data\n",
    "teams.info()"
   ]
  },
  {
   "cell_type": "markdown",
   "metadata": {},
   "source": [
    "### Convert Categorical Features\n",
    "* lgID\n",
    "* franchID\n",
    "* WSWin"
   ]
  },
  {
   "cell_type": "code",
   "execution_count": 94,
   "metadata": {},
   "outputs": [
    {
     "data": {
      "text/plain": [
       "Index(['yearID', 'teamID', 'Rank', 'G', 'Ghome', 'W', 'L', 'LgWin', 'R', 'AB',\n",
       "       'H', '2B', '3B', 'HR', 'BB', 'SO', 'SB', 'CS', 'HBP', 'SF', 'RA', 'ER',\n",
       "       'ERA', 'CG', 'SHO', 'SV', 'IPouts', 'HA', 'HRA', 'BBA', 'SOA', 'E',\n",
       "       'DP', 'FP', 'name', 'park', 'attendance', 'BPF', 'PPF', 'teamIDBR',\n",
       "       'teamIDlahman45', 'teamIDretro', 'NL', 'ARI', 'ATL', 'BAL', 'BOS',\n",
       "       'CHC', 'CHW', 'CIN', 'CLE', 'COL', 'DET', 'FLA', 'HOU', 'KCR', 'LAD',\n",
       "       'MIL', 'MIN', 'NYM', 'NYY', 'OAK', 'PHI', 'PIT', 'SDP', 'SEA', 'SFG',\n",
       "       'STL', 'TBD', 'TEX', 'TOR', 'WSN', 'Y'],\n",
       "      dtype='object')"
      ]
     },
     "execution_count": 94,
     "metadata": {},
     "output_type": "execute_result"
    }
   ],
   "source": [
    "# Convert lgID\n",
    "lg_ID = pd.get_dummies(teams['lgID'], drop_first = True)\n",
    "\n",
    "# Conver franchID\n",
    "franch_ID = pd.get_dummies(teams['franchID'], drop_first = True)\n",
    "\n",
    "# Convert WSWin\n",
    "WS_Win = pd.get_dummies(teams['WSWin'], drop_first = True)\n",
    "\n",
    "# Drop categorical features from dataset\n",
    "teams.drop(['lgID', 'franchID', 'WSWin'], axis = 1, inplace = True)\n",
    "\n",
    "# Add converted categorical features to dataset\n",
    "teams = pd.concat([teams, lg_ID, franch_ID, WS_Win], axis = 1)\n",
    "\n",
    "# Check columns\n",
    "teams.columns"
   ]
  },
  {
   "cell_type": "markdown",
   "metadata": {},
   "source": [
    "### Drop Categorical Features\n",
    "* teamID\n",
    "* LgWin\n",
    "* name\n",
    "* park\n",
    "* teamIDBR\n",
    "* teamIDlahman45\n",
    "* teamIDretro"
   ]
  },
  {
   "cell_type": "code",
   "execution_count": 95,
   "metadata": {},
   "outputs": [
    {
     "data": {
      "text/plain": [
       "Index(['yearID', 'Rank', 'G', 'Ghome', 'W', 'L', 'R', 'AB', 'H', '2B', '3B',\n",
       "       'HR', 'BB', 'SO', 'SB', 'CS', 'HBP', 'SF', 'RA', 'ER', 'ERA', 'CG',\n",
       "       'SHO', 'SV', 'IPouts', 'HA', 'HRA', 'BBA', 'SOA', 'E', 'DP', 'FP',\n",
       "       'attendance', 'BPF', 'PPF', 'NL', 'ARI', 'ATL', 'BAL', 'BOS', 'CHC',\n",
       "       'CHW', 'CIN', 'CLE', 'COL', 'DET', 'FLA', 'HOU', 'KCR', 'LAD', 'MIL',\n",
       "       'MIN', 'NYM', 'NYY', 'OAK', 'PHI', 'PIT', 'SDP', 'SEA', 'SFG', 'STL',\n",
       "       'TBD', 'TEX', 'TOR', 'WSN', 'Y'],\n",
       "      dtype='object')"
      ]
     },
     "execution_count": 95,
     "metadata": {},
     "output_type": "execute_result"
    }
   ],
   "source": [
    "# Drop categorical features not included in logistic regression model\n",
    "teams.drop(['teamID', 'LgWin', 'name', 'park', 'teamIDBR', 'teamIDlahman45', 'teamIDretro'], axis = 1, inplace = True)\n",
    "\n",
    "# Check columns\n",
    "teams.columns"
   ]
  },
  {
   "cell_type": "code",
   "execution_count": 96,
   "metadata": {},
   "outputs": [
    {
     "data": {
      "text/html": [
       "<div>\n",
       "<style scoped>\n",
       "    .dataframe tbody tr th:only-of-type {\n",
       "        vertical-align: middle;\n",
       "    }\n",
       "\n",
       "    .dataframe tbody tr th {\n",
       "        vertical-align: top;\n",
       "    }\n",
       "\n",
       "    .dataframe thead th {\n",
       "        text-align: right;\n",
       "    }\n",
       "</style>\n",
       "<table border=\"1\" class=\"dataframe\">\n",
       "  <thead>\n",
       "    <tr style=\"text-align: right;\">\n",
       "      <th></th>\n",
       "      <th>yearID</th>\n",
       "      <th>Rank</th>\n",
       "      <th>G</th>\n",
       "      <th>Ghome</th>\n",
       "      <th>W</th>\n",
       "      <th>L</th>\n",
       "      <th>R</th>\n",
       "      <th>AB</th>\n",
       "      <th>H</th>\n",
       "      <th>2B</th>\n",
       "      <th>...</th>\n",
       "      <th>PIT</th>\n",
       "      <th>SDP</th>\n",
       "      <th>SEA</th>\n",
       "      <th>SFG</th>\n",
       "      <th>STL</th>\n",
       "      <th>TBD</th>\n",
       "      <th>TEX</th>\n",
       "      <th>TOR</th>\n",
       "      <th>WSN</th>\n",
       "      <th>Y</th>\n",
       "    </tr>\n",
       "  </thead>\n",
       "  <tbody>\n",
       "    <tr>\n",
       "      <th>0</th>\n",
       "      <td>1905</td>\n",
       "      <td>4</td>\n",
       "      <td>153</td>\n",
       "      <td>77</td>\n",
       "      <td>78</td>\n",
       "      <td>74</td>\n",
       "      <td>579</td>\n",
       "      <td>5049</td>\n",
       "      <td>1179</td>\n",
       "      <td>165</td>\n",
       "      <td>...</td>\n",
       "      <td>0</td>\n",
       "      <td>0</td>\n",
       "      <td>0</td>\n",
       "      <td>0</td>\n",
       "      <td>0</td>\n",
       "      <td>0</td>\n",
       "      <td>0</td>\n",
       "      <td>0</td>\n",
       "      <td>0</td>\n",
       "      <td>0</td>\n",
       "    </tr>\n",
       "    <tr>\n",
       "      <th>1</th>\n",
       "      <td>1905</td>\n",
       "      <td>8</td>\n",
       "      <td>155</td>\n",
       "      <td>77</td>\n",
       "      <td>48</td>\n",
       "      <td>104</td>\n",
       "      <td>506</td>\n",
       "      <td>5100</td>\n",
       "      <td>1255</td>\n",
       "      <td>154</td>\n",
       "      <td>...</td>\n",
       "      <td>0</td>\n",
       "      <td>0</td>\n",
       "      <td>0</td>\n",
       "      <td>0</td>\n",
       "      <td>0</td>\n",
       "      <td>0</td>\n",
       "      <td>0</td>\n",
       "      <td>0</td>\n",
       "      <td>0</td>\n",
       "      <td>0</td>\n",
       "    </tr>\n",
       "    <tr>\n",
       "      <th>2</th>\n",
       "      <td>1905</td>\n",
       "      <td>7</td>\n",
       "      <td>156</td>\n",
       "      <td>76</td>\n",
       "      <td>51</td>\n",
       "      <td>103</td>\n",
       "      <td>468</td>\n",
       "      <td>5190</td>\n",
       "      <td>1217</td>\n",
       "      <td>148</td>\n",
       "      <td>...</td>\n",
       "      <td>0</td>\n",
       "      <td>0</td>\n",
       "      <td>0</td>\n",
       "      <td>0</td>\n",
       "      <td>0</td>\n",
       "      <td>0</td>\n",
       "      <td>0</td>\n",
       "      <td>0</td>\n",
       "      <td>0</td>\n",
       "      <td>0</td>\n",
       "    </tr>\n",
       "    <tr>\n",
       "      <th>3</th>\n",
       "      <td>1905</td>\n",
       "      <td>2</td>\n",
       "      <td>158</td>\n",
       "      <td>82</td>\n",
       "      <td>92</td>\n",
       "      <td>60</td>\n",
       "      <td>612</td>\n",
       "      <td>5114</td>\n",
       "      <td>1213</td>\n",
       "      <td>200</td>\n",
       "      <td>...</td>\n",
       "      <td>0</td>\n",
       "      <td>0</td>\n",
       "      <td>0</td>\n",
       "      <td>0</td>\n",
       "      <td>0</td>\n",
       "      <td>0</td>\n",
       "      <td>0</td>\n",
       "      <td>0</td>\n",
       "      <td>0</td>\n",
       "      <td>0</td>\n",
       "    </tr>\n",
       "    <tr>\n",
       "      <th>4</th>\n",
       "      <td>1905</td>\n",
       "      <td>3</td>\n",
       "      <td>155</td>\n",
       "      <td>81</td>\n",
       "      <td>92</td>\n",
       "      <td>61</td>\n",
       "      <td>667</td>\n",
       "      <td>5108</td>\n",
       "      <td>1249</td>\n",
       "      <td>157</td>\n",
       "      <td>...</td>\n",
       "      <td>0</td>\n",
       "      <td>0</td>\n",
       "      <td>0</td>\n",
       "      <td>0</td>\n",
       "      <td>0</td>\n",
       "      <td>0</td>\n",
       "      <td>0</td>\n",
       "      <td>0</td>\n",
       "      <td>0</td>\n",
       "      <td>0</td>\n",
       "    </tr>\n",
       "  </tbody>\n",
       "</table>\n",
       "<p>5 rows × 66 columns</p>\n",
       "</div>"
      ],
      "text/plain": [
       "   yearID  Rank    G  Ghome   W    L    R    AB     H   2B  ...  PIT  SDP  \\\n",
       "0    1905     4  153     77  78   74  579  5049  1179  165  ...    0    0   \n",
       "1    1905     8  155     77  48  104  506  5100  1255  154  ...    0    0   \n",
       "2    1905     7  156     76  51  103  468  5190  1217  148  ...    0    0   \n",
       "3    1905     2  158     82  92   60  612  5114  1213  200  ...    0    0   \n",
       "4    1905     3  155     81  92   61  667  5108  1249  157  ...    0    0   \n",
       "\n",
       "   SEA  SFG  STL  TBD  TEX  TOR  WSN  Y  \n",
       "0    0    0    0    0    0    0    0  0  \n",
       "1    0    0    0    0    0    0    0  0  \n",
       "2    0    0    0    0    0    0    0  0  \n",
       "3    0    0    0    0    0    0    0  0  \n",
       "4    0    0    0    0    0    0    0  0  \n",
       "\n",
       "[5 rows x 66 columns]"
      ]
     },
     "execution_count": 96,
     "metadata": {},
     "output_type": "execute_result"
    }
   ],
   "source": [
    "teams.head()"
   ]
  },
  {
   "cell_type": "markdown",
   "metadata": {},
   "source": [
    "## Logistic Regression Model"
   ]
  },
  {
   "cell_type": "markdown",
   "metadata": {},
   "source": [
    "### X and y Arrays"
   ]
  },
  {
   "cell_type": "code",
   "execution_count": 98,
   "metadata": {},
   "outputs": [],
   "source": [
    "# Model input\n",
    "X = teams.drop('Y', axis = 1)\n",
    "\n",
    "# Model output\n",
    "y = teams['Y']"
   ]
  },
  {
   "cell_type": "markdown",
   "metadata": {},
   "source": [
    "### Train Test Split"
   ]
  },
  {
   "cell_type": "code",
   "execution_count": 99,
   "metadata": {},
   "outputs": [],
   "source": [
    "# Train test split library\n",
    "from sklearn.model_selection import train_test_split"
   ]
  },
  {
   "cell_type": "code",
   "execution_count": 100,
   "metadata": {},
   "outputs": [],
   "source": [
    "# Split the data into training and testing data sets\n",
    "X_train, X_test, y_train, y_test = train_test_split(X, y, test_size = 0.4, random_state = 101)"
   ]
  },
  {
   "cell_type": "markdown",
   "metadata": {},
   "source": [
    "### Create and Train the Model"
   ]
  },
  {
   "cell_type": "code",
   "execution_count": 101,
   "metadata": {},
   "outputs": [],
   "source": [
    "# Import logistic regression model\n",
    "from sklearn.linear_model import LogisticRegression"
   ]
  },
  {
   "cell_type": "code",
   "execution_count": 102,
   "metadata": {},
   "outputs": [],
   "source": [
    "# Create an instance of the logistic regression model\n",
    "logmodel = LogisticRegression()"
   ]
  },
  {
   "cell_type": "code",
   "execution_count": 103,
   "metadata": {},
   "outputs": [
    {
     "name": "stderr",
     "output_type": "stream",
     "text": [
      "C:\\Users\\washr\\Anaconda3\\lib\\site-packages\\sklearn\\linear_model\\logistic.py:432: FutureWarning: Default solver will be changed to 'lbfgs' in 0.22. Specify a solver to silence this warning.\n",
      "  FutureWarning)\n"
     ]
    },
    {
     "data": {
      "text/plain": [
       "LogisticRegression(C=1.0, class_weight=None, dual=False, fit_intercept=True,\n",
       "                   intercept_scaling=1, l1_ratio=None, max_iter=100,\n",
       "                   multi_class='warn', n_jobs=None, penalty='l2',\n",
       "                   random_state=None, solver='warn', tol=0.0001, verbose=0,\n",
       "                   warm_start=False)"
      ]
     },
     "execution_count": 103,
     "metadata": {},
     "output_type": "execute_result"
    }
   ],
   "source": [
    "# Train/fit the logistic regression model to the training data\n",
    "logmodel.fit(X_train, y_train)"
   ]
  },
  {
   "cell_type": "markdown",
   "metadata": {},
   "source": [
    "### Predict Test Data"
   ]
  },
  {
   "cell_type": "code",
   "execution_count": 109,
   "metadata": {},
   "outputs": [],
   "source": [
    "#Predict the results of the test data\n",
    "predictions = logmodel.predict(X_test)"
   ]
  },
  {
   "cell_type": "markdown",
   "metadata": {},
   "source": [
    "### Evaluate Model"
   ]
  },
  {
   "cell_type": "code",
   "execution_count": 105,
   "metadata": {},
   "outputs": [],
   "source": [
    "# Import the classification metrics library\n",
    "from sklearn.metrics import classification_report\n",
    "\n",
    "# Import confusion metrix library\n",
    "from sklearn.metrics import confusion_matrix"
   ]
  },
  {
   "cell_type": "markdown",
   "metadata": {},
   "source": [
    "### Classification Metrics\n",
    "**Precision** represents the percentage of all instances correctly classified as positive\n",
    "\n",
    "**Recall** represents the percentage of all instances that were actually positive and classified correctly as positive\n",
    "\n",
    "**f1 Score** represents a weighted mean of precision and recall\n",
    "\n",
    "**Support** represents the number of actual occurrences of each classification\n",
    "\n",
    "**Accuracy** represents overall percentage of correct classification"
   ]
  },
  {
   "cell_type": "code",
   "execution_count": 106,
   "metadata": {},
   "outputs": [
    {
     "name": "stdout",
     "output_type": "stream",
     "text": [
      "              precision    recall  f1-score   support\n",
      "\n",
      "           0       0.96      0.99      0.98       916\n",
      "           1       0.50      0.15      0.23        40\n",
      "\n",
      "    accuracy                           0.96       956\n",
      "   macro avg       0.73      0.57      0.60       956\n",
      "weighted avg       0.94      0.96      0.95       956\n",
      "\n"
     ]
    }
   ],
   "source": [
    "# Print out the classification metrics\n",
    "print(classification_report(y_test, predictions))"
   ]
  },
  {
   "cell_type": "markdown",
   "metadata": {},
   "source": [
    "### Confusion Matrix\n",
    "**True Positive** represents predicted true and actually true\n",
    "\n",
    "**True Negative** represents predicted false and actually false\n",
    "\n",
    "**False Positive** represents predicted true but actually false\n",
    "\n",
    "**False Negative** represents predicted false but actually true"
   ]
  },
  {
   "cell_type": "code",
   "execution_count": 119,
   "metadata": {},
   "outputs": [
    {
     "data": {
      "text/plain": [
       "array([[910,   6],\n",
       "       [ 34,   6]], dtype=int64)"
      ]
     },
     "execution_count": 119,
     "metadata": {},
     "output_type": "execute_result"
    }
   ],
   "source": [
    "# Confusion matrix\n",
    "confusion_matrix(y_test, predictions)"
   ]
  },
  {
   "cell_type": "code",
   "execution_count": 121,
   "metadata": {},
   "outputs": [
    {
     "name": "stdout",
     "output_type": "stream",
     "text": [
      "true positive: 6\n",
      "true negative: 910\n",
      "false positive: 6\n",
      "false negative: 34\n"
     ]
    }
   ],
   "source": [
    "# Print out the confusion matrix\n",
    "print('true positive:', confusion_matrix(y_test, predictions)[0,1])\n",
    "print('true negative:', confusion_matrix(y_test, predictions)[0,0])\n",
    "print('false positive:', confusion_matrix(y_test, predictions)[1,1])\n",
    "print('false negative:', confusion_matrix(y_test, predictions)[1,0])"
   ]
  },
  {
   "cell_type": "markdown",
   "metadata": {},
   "source": [
    "### Conclusion\n",
    "* The model has a 96% accuracy score which on the surface looks good but, after looking at the confusion matrix...\n",
    "    * The model is very good at correctly predicting if a team lost the World Series as it correctly predicted 910 out of 916 teams\n",
    "    * The model is not very good at correctly predicting if a team won the World Series as it only correctly predicted 6 out of 40 teams"
   ]
  }
 ],
 "metadata": {
  "kernelspec": {
   "display_name": "Python 3",
   "language": "python",
   "name": "python3"
  },
  "language_info": {
   "codemirror_mode": {
    "name": "ipython",
    "version": 3
   },
   "file_extension": ".py",
   "mimetype": "text/x-python",
   "name": "python",
   "nbconvert_exporter": "python",
   "pygments_lexer": "ipython3",
   "version": "3.7.5"
  }
 },
 "nbformat": 4,
 "nbformat_minor": 2
}
